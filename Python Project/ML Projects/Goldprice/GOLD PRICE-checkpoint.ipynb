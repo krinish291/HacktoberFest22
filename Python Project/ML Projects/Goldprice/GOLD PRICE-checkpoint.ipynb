{
 "cells": [
  {
   "cell_type": "code",
   "execution_count": 9,
   "id": "2782e757",
   "metadata": {},
   "outputs": [],
   "source": [
    "import numpy as np\n",
    "import pandas as pd\n",
    "import matplotlib.pyplot as plt \n",
    "import seaborn as sns\n",
    "from sklearn.model_selection import train_test_split\n",
    "from sklearn.ensemble import RandomForestRegressor\n",
    "from sklearn import metrics"
   ]
  },
  {
   "cell_type": "code",
   "execution_count": 10,
   "id": "3f7c99e8",
   "metadata": {},
   "outputs": [],
   "source": [
    "#DATA COLLECTION AND PROCESSING\n",
    "#loading the csv data to a Pandas Dataframe\n",
    "gold_data=pd.read_csv('gld_price_data.csv')\n"
   ]
  },
  {
   "cell_type": "code",
   "execution_count": 11,
   "id": "c18a8af1",
   "metadata": {},
   "outputs": [
    {
     "data": {
      "text/html": [
       "<div>\n",
       "<style scoped>\n",
       "    .dataframe tbody tr th:only-of-type {\n",
       "        vertical-align: middle;\n",
       "    }\n",
       "\n",
       "    .dataframe tbody tr th {\n",
       "        vertical-align: top;\n",
       "    }\n",
       "\n",
       "    .dataframe thead th {\n",
       "        text-align: right;\n",
       "    }\n",
       "</style>\n",
       "<table border=\"1\" class=\"dataframe\">\n",
       "  <thead>\n",
       "    <tr style=\"text-align: right;\">\n",
       "      <th></th>\n",
       "      <th>Date</th>\n",
       "      <th>SPX</th>\n",
       "      <th>GLD</th>\n",
       "      <th>USO</th>\n",
       "      <th>SLV</th>\n",
       "      <th>EUR/USD</th>\n",
       "    </tr>\n",
       "  </thead>\n",
       "  <tbody>\n",
       "    <tr>\n",
       "      <th>0</th>\n",
       "      <td>1/2/2008</td>\n",
       "      <td>1447.160034</td>\n",
       "      <td>84.860001</td>\n",
       "      <td>78.470001</td>\n",
       "      <td>15.180</td>\n",
       "      <td>1.471692</td>\n",
       "    </tr>\n",
       "    <tr>\n",
       "      <th>1</th>\n",
       "      <td>1/3/2008</td>\n",
       "      <td>1447.160034</td>\n",
       "      <td>85.570000</td>\n",
       "      <td>78.370003</td>\n",
       "      <td>15.285</td>\n",
       "      <td>1.474491</td>\n",
       "    </tr>\n",
       "    <tr>\n",
       "      <th>2</th>\n",
       "      <td>1/4/2008</td>\n",
       "      <td>1411.630005</td>\n",
       "      <td>85.129997</td>\n",
       "      <td>77.309998</td>\n",
       "      <td>15.167</td>\n",
       "      <td>1.475492</td>\n",
       "    </tr>\n",
       "    <tr>\n",
       "      <th>3</th>\n",
       "      <td>1/7/2008</td>\n",
       "      <td>1416.180054</td>\n",
       "      <td>84.769997</td>\n",
       "      <td>75.500000</td>\n",
       "      <td>15.053</td>\n",
       "      <td>1.468299</td>\n",
       "    </tr>\n",
       "    <tr>\n",
       "      <th>4</th>\n",
       "      <td>1/8/2008</td>\n",
       "      <td>1390.189941</td>\n",
       "      <td>86.779999</td>\n",
       "      <td>76.059998</td>\n",
       "      <td>15.590</td>\n",
       "      <td>1.557099</td>\n",
       "    </tr>\n",
       "  </tbody>\n",
       "</table>\n",
       "</div>"
      ],
      "text/plain": [
       "       Date          SPX        GLD        USO     SLV   EUR/USD\n",
       "0  1/2/2008  1447.160034  84.860001  78.470001  15.180  1.471692\n",
       "1  1/3/2008  1447.160034  85.570000  78.370003  15.285  1.474491\n",
       "2  1/4/2008  1411.630005  85.129997  77.309998  15.167  1.475492\n",
       "3  1/7/2008  1416.180054  84.769997  75.500000  15.053  1.468299\n",
       "4  1/8/2008  1390.189941  86.779999  76.059998  15.590  1.557099"
      ]
     },
     "execution_count": 11,
     "metadata": {},
     "output_type": "execute_result"
    }
   ],
   "source": [
    "gold_data.head()"
   ]
  },
  {
   "cell_type": "code",
   "execution_count": 12,
   "id": "febb0fc7",
   "metadata": {},
   "outputs": [],
   "source": [
    "#SPX IS STOCK VALUE GLD IS GOLD PRICE USO IS US OIL PRICE EUR ANF USD IS CURRENCY OF US AND EUROPECURRENCY"
   ]
  },
  {
   "cell_type": "code",
   "execution_count": 13,
   "id": "9758f5dc",
   "metadata": {},
   "outputs": [
    {
     "data": {
      "text/html": [
       "<div>\n",
       "<style scoped>\n",
       "    .dataframe tbody tr th:only-of-type {\n",
       "        vertical-align: middle;\n",
       "    }\n",
       "\n",
       "    .dataframe tbody tr th {\n",
       "        vertical-align: top;\n",
       "    }\n",
       "\n",
       "    .dataframe thead th {\n",
       "        text-align: right;\n",
       "    }\n",
       "</style>\n",
       "<table border=\"1\" class=\"dataframe\">\n",
       "  <thead>\n",
       "    <tr style=\"text-align: right;\">\n",
       "      <th></th>\n",
       "      <th>Date</th>\n",
       "      <th>SPX</th>\n",
       "      <th>GLD</th>\n",
       "      <th>USO</th>\n",
       "      <th>SLV</th>\n",
       "      <th>EUR/USD</th>\n",
       "    </tr>\n",
       "  </thead>\n",
       "  <tbody>\n",
       "    <tr>\n",
       "      <th>2285</th>\n",
       "      <td>5/8/2018</td>\n",
       "      <td>2671.919922</td>\n",
       "      <td>124.589996</td>\n",
       "      <td>14.0600</td>\n",
       "      <td>15.5100</td>\n",
       "      <td>1.186789</td>\n",
       "    </tr>\n",
       "    <tr>\n",
       "      <th>2286</th>\n",
       "      <td>5/9/2018</td>\n",
       "      <td>2697.790039</td>\n",
       "      <td>124.330002</td>\n",
       "      <td>14.3700</td>\n",
       "      <td>15.5300</td>\n",
       "      <td>1.184722</td>\n",
       "    </tr>\n",
       "    <tr>\n",
       "      <th>2287</th>\n",
       "      <td>5/10/2018</td>\n",
       "      <td>2723.070068</td>\n",
       "      <td>125.180000</td>\n",
       "      <td>14.4100</td>\n",
       "      <td>15.7400</td>\n",
       "      <td>1.191753</td>\n",
       "    </tr>\n",
       "    <tr>\n",
       "      <th>2288</th>\n",
       "      <td>5/14/2018</td>\n",
       "      <td>2730.129883</td>\n",
       "      <td>124.489998</td>\n",
       "      <td>14.3800</td>\n",
       "      <td>15.5600</td>\n",
       "      <td>1.193118</td>\n",
       "    </tr>\n",
       "    <tr>\n",
       "      <th>2289</th>\n",
       "      <td>5/16/2018</td>\n",
       "      <td>2725.780029</td>\n",
       "      <td>122.543800</td>\n",
       "      <td>14.4058</td>\n",
       "      <td>15.4542</td>\n",
       "      <td>1.182033</td>\n",
       "    </tr>\n",
       "  </tbody>\n",
       "</table>\n",
       "</div>"
      ],
      "text/plain": [
       "           Date          SPX         GLD      USO      SLV   EUR/USD\n",
       "2285   5/8/2018  2671.919922  124.589996  14.0600  15.5100  1.186789\n",
       "2286   5/9/2018  2697.790039  124.330002  14.3700  15.5300  1.184722\n",
       "2287  5/10/2018  2723.070068  125.180000  14.4100  15.7400  1.191753\n",
       "2288  5/14/2018  2730.129883  124.489998  14.3800  15.5600  1.193118\n",
       "2289  5/16/2018  2725.780029  122.543800  14.4058  15.4542  1.182033"
      ]
     },
     "execution_count": 13,
     "metadata": {},
     "output_type": "execute_result"
    }
   ],
   "source": [
    "gold_data.tail()"
   ]
  },
  {
   "cell_type": "code",
   "execution_count": 14,
   "id": "95933285",
   "metadata": {},
   "outputs": [
    {
     "data": {
      "text/plain": [
       "(2290, 6)"
      ]
     },
     "execution_count": 14,
     "metadata": {},
     "output_type": "execute_result"
    }
   ],
   "source": [
    "gold_data.shape\n",
    "#ROW COLUMN   "
   ]
  },
  {
   "cell_type": "code",
   "execution_count": 15,
   "id": "ffecd22e",
   "metadata": {},
   "outputs": [
    {
     "name": "stdout",
     "output_type": "stream",
     "text": [
      "<class 'pandas.core.frame.DataFrame'>\n",
      "RangeIndex: 2290 entries, 0 to 2289\n",
      "Data columns (total 6 columns):\n",
      " #   Column   Non-Null Count  Dtype  \n",
      "---  ------   --------------  -----  \n",
      " 0   Date     2290 non-null   object \n",
      " 1   SPX      2290 non-null   float64\n",
      " 2   GLD      2290 non-null   float64\n",
      " 3   USO      2290 non-null   float64\n",
      " 4   SLV      2290 non-null   float64\n",
      " 5   EUR/USD  2290 non-null   float64\n",
      "dtypes: float64(5), object(1)\n",
      "memory usage: 107.5+ KB\n"
     ]
    }
   ],
   "source": [
    "#Getting some basic informations about the data\n",
    "gold_data.info()"
   ]
  },
  {
   "cell_type": "code",
   "execution_count": 16,
   "id": "6a60630e",
   "metadata": {},
   "outputs": [
    {
     "data": {
      "text/plain": [
       "Date       0\n",
       "SPX        0\n",
       "GLD        0\n",
       "USO        0\n",
       "SLV        0\n",
       "EUR/USD    0\n",
       "dtype: int64"
      ]
     },
     "execution_count": 16,
     "metadata": {},
     "output_type": "execute_result"
    }
   ],
   "source": [
    "#CHECKING NUMBER OF MISSING VALUES\n",
    "gold_data.isnull().sum()"
   ]
  },
  {
   "cell_type": "code",
   "execution_count": 17,
   "id": "bee3d806",
   "metadata": {},
   "outputs": [
    {
     "data": {
      "text/html": [
       "<div>\n",
       "<style scoped>\n",
       "    .dataframe tbody tr th:only-of-type {\n",
       "        vertical-align: middle;\n",
       "    }\n",
       "\n",
       "    .dataframe tbody tr th {\n",
       "        vertical-align: top;\n",
       "    }\n",
       "\n",
       "    .dataframe thead th {\n",
       "        text-align: right;\n",
       "    }\n",
       "</style>\n",
       "<table border=\"1\" class=\"dataframe\">\n",
       "  <thead>\n",
       "    <tr style=\"text-align: right;\">\n",
       "      <th></th>\n",
       "      <th>SPX</th>\n",
       "      <th>GLD</th>\n",
       "      <th>USO</th>\n",
       "      <th>SLV</th>\n",
       "      <th>EUR/USD</th>\n",
       "    </tr>\n",
       "  </thead>\n",
       "  <tbody>\n",
       "    <tr>\n",
       "      <th>count</th>\n",
       "      <td>2290.000000</td>\n",
       "      <td>2290.000000</td>\n",
       "      <td>2290.000000</td>\n",
       "      <td>2290.000000</td>\n",
       "      <td>2290.000000</td>\n",
       "    </tr>\n",
       "    <tr>\n",
       "      <th>mean</th>\n",
       "      <td>1654.315776</td>\n",
       "      <td>122.732875</td>\n",
       "      <td>31.842221</td>\n",
       "      <td>20.084997</td>\n",
       "      <td>1.283653</td>\n",
       "    </tr>\n",
       "    <tr>\n",
       "      <th>std</th>\n",
       "      <td>519.111540</td>\n",
       "      <td>23.283346</td>\n",
       "      <td>19.523517</td>\n",
       "      <td>7.092566</td>\n",
       "      <td>0.131547</td>\n",
       "    </tr>\n",
       "    <tr>\n",
       "      <th>min</th>\n",
       "      <td>676.530029</td>\n",
       "      <td>70.000000</td>\n",
       "      <td>7.960000</td>\n",
       "      <td>8.850000</td>\n",
       "      <td>1.039047</td>\n",
       "    </tr>\n",
       "    <tr>\n",
       "      <th>25%</th>\n",
       "      <td>1239.874969</td>\n",
       "      <td>109.725000</td>\n",
       "      <td>14.380000</td>\n",
       "      <td>15.570000</td>\n",
       "      <td>1.171313</td>\n",
       "    </tr>\n",
       "    <tr>\n",
       "      <th>50%</th>\n",
       "      <td>1551.434998</td>\n",
       "      <td>120.580002</td>\n",
       "      <td>33.869999</td>\n",
       "      <td>17.268500</td>\n",
       "      <td>1.303297</td>\n",
       "    </tr>\n",
       "    <tr>\n",
       "      <th>75%</th>\n",
       "      <td>2073.010070</td>\n",
       "      <td>132.840004</td>\n",
       "      <td>37.827501</td>\n",
       "      <td>22.882500</td>\n",
       "      <td>1.369971</td>\n",
       "    </tr>\n",
       "    <tr>\n",
       "      <th>max</th>\n",
       "      <td>2872.870117</td>\n",
       "      <td>184.589996</td>\n",
       "      <td>117.480003</td>\n",
       "      <td>47.259998</td>\n",
       "      <td>1.598798</td>\n",
       "    </tr>\n",
       "  </tbody>\n",
       "</table>\n",
       "</div>"
      ],
      "text/plain": [
       "               SPX          GLD          USO          SLV      EUR/USD\n",
       "count  2290.000000  2290.000000  2290.000000  2290.000000  2290.000000\n",
       "mean   1654.315776   122.732875    31.842221    20.084997     1.283653\n",
       "std     519.111540    23.283346    19.523517     7.092566     0.131547\n",
       "min     676.530029    70.000000     7.960000     8.850000     1.039047\n",
       "25%    1239.874969   109.725000    14.380000    15.570000     1.171313\n",
       "50%    1551.434998   120.580002    33.869999    17.268500     1.303297\n",
       "75%    2073.010070   132.840004    37.827501    22.882500     1.369971\n",
       "max    2872.870117   184.589996   117.480003    47.259998     1.598798"
      ]
     },
     "execution_count": 17,
     "metadata": {},
     "output_type": "execute_result"
    }
   ],
   "source": [
    "#getting the statistical measures of data\n",
    "gold_data.describe()"
   ]
  },
  {
   "cell_type": "markdown",
   "id": "ff4ea076",
   "metadata": {},
   "source": [
    "# corelation:\n",
    "1.Positive \n",
    "2.Negative"
   ]
  },
  {
   "cell_type": "code",
   "execution_count": 18,
   "id": "f69335cb",
   "metadata": {},
   "outputs": [],
   "source": [
    " correlation=gold_data.corr()"
   ]
  },
  {
   "cell_type": "code",
   "execution_count": 19,
   "id": "11c811e0",
   "metadata": {},
   "outputs": [
    {
     "data": {
      "text/plain": [
       "<AxesSubplot:>"
      ]
     },
     "execution_count": 19,
     "metadata": {},
     "output_type": "execute_result"
    },
    {
     "data": {
      "image/png": "[encoded data removed]",
      "text/plain": [
       "<Figure size 432x288 with 2 Axes>"
      ]
     },
     "metadata": {
      "needs_background": "light"
     },
     "output_type": "display_data"
    }
   ],
   "source": [
    "#constructing a heatmap to understand the correlation\n",
    "sns.heatmap(correlation,cbar=True,square=True,fmt='.1f',annot=True,annot_kws={'size':8},cmap='Reds')"
   ]
  },
  {
   "cell_type": "code",
   "execution_count": 20,
   "id": "9576e09b",
   "metadata": {},
   "outputs": [
    {
     "name": "stdout",
     "output_type": "stream",
     "text": [
      "SPX        0.049345\n",
      "GLD        1.000000\n",
      "USO       -0.186360\n",
      "SLV        0.866632\n",
      "EUR/USD   -0.024375\n",
      "Name: GLD, dtype: float64\n"
     ]
    }
   ],
   "source": [
    "print(correlation['GLD'])"
   ]
  },
  {
   "cell_type": "code",
   "execution_count": 21,
   "id": "9b9e82b5",
   "metadata": {},
   "outputs": [
    {
     "data": {
      "text/plain": [
       "<seaborn.axisgrid.FacetGrid at 0x2aeb510aa90>"
      ]
     },
     "execution_count": 21,
     "metadata": {},
     "output_type": "execute_result"
    },
    {
     "data": {
      "image/png": "[encoded data removed]",
      "text/plain": [
       "<Figure size 360x360 with 1 Axes>"
      ]
     },
     "metadata": {
      "needs_background": "light"
     },
     "output_type": "display_data"
    }
   ],
   "source": [
    "#checking \n",
    "sns.displot(gold_data['GLD'],color='green')"
   ]
  },
  {
   "cell_type": "markdown",
   "id": "53a927d0",
   "metadata": {},
   "source": [
    "Splitting the features and Target\n"
   ]
  },
  {
   "cell_type": "code",
   "execution_count": 22,
   "id": "33a8b2b8",
   "metadata": {},
   "outputs": [
    {
     "name": "stdout",
     "output_type": "stream",
     "text": [
      "              SPX        USO      SLV   EUR/USD\n",
      "0     1447.160034  78.470001  15.1800  1.471692\n",
      "1     1447.160034  78.370003  15.2850  1.474491\n",
      "2     1411.630005  77.309998  15.1670  1.475492\n",
      "3     1416.180054  75.500000  15.0530  1.468299\n",
      "4     1390.189941  76.059998  15.5900  1.557099\n",
      "...           ...        ...      ...       ...\n",
      "2285  2671.919922  14.060000  15.5100  1.186789\n",
      "2286  2697.790039  14.370000  15.5300  1.184722\n",
      "2287  2723.070068  14.410000  15.7400  1.191753\n",
      "2288  2730.129883  14.380000  15.5600  1.193118\n",
      "2289  2725.780029  14.405800  15.4542  1.182033\n",
      "\n",
      "[2290 rows x 4 columns]\n"
     ]
    }
   ],
   "source": [
    "X=gold_data.drop(['Date','GLD'],axis=1)\n",
    "Y=gold_data['GLD']\n",
    "print(X)"
   ]
  },
  {
   "cell_type": "code",
   "execution_count": 23,
   "id": "b2dc5e38",
   "metadata": {},
   "outputs": [
    {
     "name": "stdout",
     "output_type": "stream",
     "text": [
      "0        84.860001\n",
      "1        85.570000\n",
      "2        85.129997\n",
      "3        84.769997\n",
      "4        86.779999\n",
      "           ...    \n",
      "2285    124.589996\n",
      "2286    124.330002\n",
      "2287    125.180000\n",
      "2288    124.489998\n",
      "2289    122.543800\n",
      "Name: GLD, Length: 2290, dtype: float64\n"
     ]
    }
   ],
   "source": [
    "print(Y)"
   ]
  },
  {
   "cell_type": "markdown",
   "id": "129f0bba",
   "metadata": {},
   "source": [
    "# NOE WE HAVE TO SPLIT IN 2 SECTIONS TRAINING DATA AAND TEST DATA"
   ]
  },
  {
   "cell_type": "code",
   "execution_count": 24,
   "id": "831cc3ac",
   "metadata": {},
   "outputs": [],
   "source": [
    "X_train,X_test,Y_train,Y_test=train_test_split(X,Y,test_size=0.2,random_state=2)"
   ]
  },
  {
   "cell_type": "code",
   "execution_count": 25,
   "id": "5dda6369",
   "metadata": {},
   "outputs": [],
   "source": [
    "#MODEL TRAINING : RANDOM FOREST REGRESSOR\n",
    "regressor=RandomForestRegressor(n_estimators=100)"
   ]
  },
  {
   "cell_type": "code",
   "execution_count": 26,
   "id": "8629287f",
   "metadata": {},
   "outputs": [
    {
     "data": {
      "text/html": [
       "<style>#sk-container-id-1 {color: black;background-color: white;}#sk-container-id-1 pre{padding: 0;}#sk-container-id-1 div.sk-toggleable {background-color: white;}#sk-container-id-1 label.sk-toggleable__label {cursor: pointer;display: block;width: 100%;margin-bottom: 0;padding: 0.3em;box-sizing: border-box;text-align: center;}#sk-container-id-1 label.sk-toggleable__label-arrow:before {content: \"▸\";float: left;margin-right: 0.25em;color: #696969;}#sk-container-id-1 label.sk-toggleable__label-arrow:hover:before {color: black;}#sk-container-id-1 div.sk-estimator:hover label.sk-toggleable__label-arrow:before {color: black;}#sk-container-id-1 div.sk-toggleable__content {max-height: 0;max-width: 0;overflow: hidden;text-align: left;background-color: #f0f8ff;}#sk-container-id-1 div.sk-toggleable__content pre {margin: 0.2em;color: black;border-radius: 0.25em;background-color: #f0f8ff;}#sk-container-id-1 input.sk-toggleable__control:checked~div.sk-toggleable__content {max-height: 200px;max-width: 100%;overflow: auto;}#sk-container-id-1 input.sk-toggleable__control:checked~label.sk-toggleable__label-arrow:before {content: \"▾\";}#sk-container-id-1 div.sk-estimator input.sk-toggleable__control:checked~label.sk-toggleable__label {background-color: #d4ebff;}#sk-container-id-1 div.sk-label input.sk-toggleable__control:checked~label.sk-toggleable__label {background-color: #d4ebff;}#sk-container-id-1 input.sk-hidden--visually {border: 0;clip: rect(1px 1px 1px 1px);clip: rect(1px, 1px, 1px, 1px);height: 1px;margin: -1px;overflow: hidden;padding: 0;position: absolute;width: 1px;}#sk-container-id-1 div.sk-estimator {font-family: monospace;background-color: #f0f8ff;border: 1px dotted black;border-radius: 0.25em;box-sizing: border-box;margin-bottom: 0.5em;}#sk-container-id-1 div.sk-estimator:hover {background-color: #d4ebff;}#sk-container-id-1 div.sk-parallel-item::after {content: \"\";width: 100%;border-bottom: 1px solid gray;flex-grow: 1;}#sk-container-id-1 div.sk-label:hover label.sk-toggleable__label {background-color: #d4ebff;}#sk-container-id-1 div.sk-serial::before {content: \"\";position: absolute;border-left: 1px solid gray;box-sizing: border-box;top: 0;bottom: 0;left: 50%;z-index: 0;}#sk-container-id-1 div.sk-serial {display: flex;flex-direction: column;align-items: center;background-color: white;padding-right: 0.2em;padding-left: 0.2em;position: relative;}#sk-container-id-1 div.sk-item {position: relative;z-index: 1;}#sk-container-id-1 div.sk-parallel {display: flex;align-items: stretch;justify-content: center;background-color: white;position: relative;}#sk-container-id-1 div.sk-item::before, #sk-container-id-1 div.sk-parallel-item::before {content: \"\";position: absolute;border-left: 1px solid gray;box-sizing: border-box;top: 0;bottom: 0;left: 50%;z-index: -1;}#sk-container-id-1 div.sk-parallel-item {display: flex;flex-direction: column;z-index: 1;position: relative;background-color: white;}#sk-container-id-1 div.sk-parallel-item:first-child::after {align-self: flex-end;width: 50%;}#sk-container-id-1 div.sk-parallel-item:last-child::after {align-self: flex-start;width: 50%;}#sk-container-id-1 div.sk-parallel-item:only-child::after {width: 0;}#sk-container-id-1 div.sk-dashed-wrapped {border: 1px dashed gray;margin: 0 0.4em 0.5em 0.4em;box-sizing: border-box;padding-bottom: 0.4em;background-color: white;}#sk-container-id-1 div.sk-label label {font-family: monospace;font-weight: bold;display: inline-block;line-height: 1.2em;}#sk-container-id-1 div.sk-label-container {text-align: center;}#sk-container-id-1 div.sk-container {/* jupyter's `normalize.less` sets `[hidden] { display: none; }` but bootstrap.min.css set `[hidden] { display: none !important; }` so we also need the `!important` here to be able to override the default hidden behavior on the sphinx rendered scikit-learn.org. See: https://github.com/scikit-learn/scikit-learn/issues/21755 */display: inline-block !important;position: relative;}#sk-container-id-1 div.sk-text-repr-fallback {display: none;}</style><div id=\"sk-container-id-1\" class=\"sk-top-container\"><div class=\"sk-text-repr-fallback\"><pre>RandomForestRegressor()</pre><b>In a Jupyter environment, please rerun this cell to show the HTML representation or trust the notebook. <br />On GitHub, the HTML representation is unable to render, please try loading this page with nbviewer.org.</b></div><div class=\"sk-container\" hidden><div class=\"sk-item\"><div class=\"sk-estimator sk-toggleable\"><input class=\"sk-toggleable__control sk-hidden--visually\" id=\"sk-estimator-id-1\" type=\"checkbox\" checked><label for=\"sk-estimator-id-1\" class=\"sk-toggleable__label sk-toggleable__label-arrow\">RandomForestRegressor</label><div class=\"sk-toggleable__content\"><pre>RandomForestRegressor()</pre></div></div></div></div></div>"
      ],
      "text/plain": [
       "RandomForestRegressor()"
      ]
     },
     "execution_count": 26,
     "metadata": {},
     "output_type": "execute_result"
    }
   ],
   "source": [
    "regressor.fit(X_train,Y_train)"
   ]
  },
  {
   "cell_type": "code",
   "execution_count": 27,
   "id": "e9b0f7c1",
   "metadata": {},
   "outputs": [],
   "source": [
    "#PEDICTION ON TEST DATA\n",
    "test_data_prediction=regressor.predict(X_test)"
   ]
  },
  {
   "cell_type": "code",
   "execution_count": 28,
   "id": "b2533e49",
   "metadata": {},
   "outputs": [
    {
     "name": "stdout",
     "output_type": "stream",
     "text": [
      "[168.46759951  82.11759975 116.23250008 127.70780057 120.84130117\n",
      " 154.76859832 150.08299889 126.22470014 117.4241987  126.13110061\n",
      " 116.65200078 171.74020096 141.71679874 167.97139863 115.0293\n",
      " 117.79580033 140.98670259 170.11560078 159.39770346 157.83269962\n",
      " 155.13159998 125.32750011 175.37029991 157.04560378 125.13750048\n",
      "  93.97019971  77.92890009 120.45069983 118.98819883 167.60599974\n",
      "  88.19330057 125.35260065  91.04430074 117.65230021 121.12159899\n",
      " 136.8053005  115.43660082 115.11970061 147.11460069 107.006101\n",
      " 104.11430232  87.19219802 126.39880039 117.67929998 153.00909884\n",
      " 119.7428002  108.41589965 108.07899808  93.12740024 127.22969745\n",
      "  74.46870044 113.56439913 121.52969975 111.27949905 118.84629883\n",
      " 120.78389953 158.43549921 167.994001   147.15489685  85.62129834\n",
      "  94.3775005   86.75619927  90.62100056 119.00320038 126.40890047\n",
      " 127.48120013 169.56269982 122.18649933 117.29459902  98.28850033\n",
      " 168.5382009  142.80699852 132.3693018  121.09720225 120.84929932\n",
      " 119.60650058 114.40830157 118.10960066 107.08560105 127.77660144\n",
      " 113.82999962 107.24999987 116.95280071 119.63619863  89.02130088\n",
      "  88.26489866 146.54680206 127.39470055 113.56600041 110.24389847\n",
      " 108.24769866  76.83759918 169.98360182 114.18319922 121.59079923\n",
      " 127.99750207 154.95859845  91.69839956 135.96390087 158.69940298\n",
      " 124.83210037 125.49420056 130.50480089 114.81150116 119.7528005\n",
      "  92.12959976 110.14029916 166.83839991 156.65929903 114.33879962\n",
      " 106.33130142  79.43669971 113.29370041 125.68940058 107.08559927\n",
      " 119.12940114 155.8062027  160.01989834 120.23829992 136.1394037\n",
      " 101.46749961 117.65429798 119.39410054 112.9459008  102.83279939\n",
      " 160.21749794  99.11260019 146.66650013 125.66030112 169.69689943\n",
      " 125.61229877 127.4237974  127.26650088 113.71809976 112.73870074\n",
      " 123.56109915 102.24109901  89.37470008 124.70509946 102.00179917\n",
      " 107.19459921 113.28450041 117.34080039  98.97419959 121.6947004\n",
      " 163.36529898  87.30409872 106.63289966 117.39590068 127.63300165\n",
      " 123.88060051  80.62019926 120.26650068 157.92529774  87.93319939\n",
      " 110.36619914 118.69689922 172.09999885 102.99239898 106.28550061\n",
      " 122.41470005 158.38519745  87.39379813  93.2591005  112.75670042\n",
      " 176.94460009 114.09369991 119.39580031  94.74770105 125.59649993\n",
      " 166.45420071 114.79540055 116.98780126  88.30249871 148.83300078\n",
      " 120.15109941  89.50159958 112.1728004  117.22060033 118.7034013\n",
      "  88.24769953  94.1704     116.8982001  118.43710189 120.39880062\n",
      " 126.63469858 121.88209954 151.67440031 165.40070078 118.48389949\n",
      " 120.34010144 150.06190083 118.14859934 172.9534986  105.60259935\n",
      " 104.92300131 148.89350097 113.65050052 124.82640112 147.76710092\n",
      " 119.69870128 115.34460009 112.52110061 113.71290156 140.7145013\n",
      " 117.79529761 102.91250029 115.8355013  103.45220156  98.75030051\n",
      " 117.19960039  90.64780048  91.44600049 153.7058991  102.78249985\n",
      " 154.50950084 114.35830146 139.16660082  90.16689808 115.48289943\n",
      " 114.66369987 122.88470069 121.8290999  165.07110115  92.85979949\n",
      " 135.61870135 121.32319932 120.77370059 104.46380005 141.76270313\n",
      " 121.15529927 116.65870036 113.17200128 127.06739735 122.8602995\n",
      " 125.81999989 121.22140044  86.87729935 132.47030218 145.39290207\n",
      "  92.66109929 159.94659968 159.36860187 126.39559902 164.53259945\n",
      " 108.81909947 109.35730073 103.65979847  94.16980057 128.41430339\n",
      " 107.00500053 162.29899943 121.71770026 131.8769007  130.60800098\n",
      " 160.3843991   90.21349838 175.48630211 127.44360059 126.62569913\n",
      "  86.36119911 124.4992997  150.283897    89.72209989 106.69569965\n",
      " 109.04649999  84.54739889 135.87220008 154.79900188 139.88670293\n",
      "  74.63650004 152.18000108 125.98869967 126.72810012 127.4129993\n",
      " 108.54369943 156.3166996  114.42010104 116.8905014  125.38009968\n",
      " 154.14580146 121.35309997 156.42029851  92.91350054 125.5486011\n",
      " 125.80010055  87.86800073  92.17989901 126.36439907 128.26300339\n",
      " 113.06640036 117.60609734 120.79010008 127.00109811 119.4679012\n",
      " 136.94750034  93.87339917 120.04640038 112.79240132  94.24719948\n",
      " 108.92039955  87.71709936 108.94049934  89.53029969  92.27980016\n",
      " 131.52240266 162.58430095  89.17340019 119.74710088 133.47360157\n",
      " 124.05710051 128.00220035 102.01129849  89.16439872 131.59410018\n",
      " 120.1635002  108.77459954 168.51070058 115.19210016  86.65869857\n",
      " 118.84820073  91.09049946 161.77429984 116.12690017 121.65980035\n",
      " 159.99229738 119.99979929 112.92709919 108.49489847 126.54589999\n",
      "  75.9726003  103.00789983 128.19370337 121.9216991   92.60329998\n",
      " 132.35150035 118.04970094 115.75529973 154.54150264 160.02780105\n",
      " 110.07789981 153.17179729 119.27270094 160.58620105 118.49789977\n",
      " 157.5977978  115.09619959 116.51930052 150.30179933 114.68170085\n",
      " 125.73179844 166.3638994  117.72740012 125.06859896 153.22510333\n",
      " 153.31190303 131.97250172 114.72500058 121.33900208 124.83850042\n",
      "  89.76300065 123.25589986 154.6899011  111.72520064 106.55269997\n",
      " 161.22190071 118.80659993 165.54379955 134.02670165 114.96779972\n",
      " 153.00159875 168.85630078 114.98200028 114.13330132 157.80659822\n",
      "  85.46429842 126.99750045 128.01750073 128.89189976 124.46290071\n",
      " 123.90320068  90.46920072 152.97370007  97.20939967 138.8467995\n",
      "  89.05789901 107.14700006 115.12670038 112.2211009  124.29499916\n",
      "  91.47279873 125.29630086 162.47619901 120.02739851 164.86570093\n",
      " 126.61419879 112.50450001 127.59199959  94.7538989   90.76830034\n",
      " 103.68199898 120.8324998   83.13449936 126.13669986 160.22650492\n",
      " 117.2849009  118.31139975 119.75489982 122.53789926 119.95100119\n",
      " 121.62969987 118.43720065 107.09779949 148.54220042 126.38289825\n",
      " 115.74250093  74.15790038 127.75800058 153.93540076 121.44769999\n",
      " 125.66010083  88.79999976 104.92939899 124.57960042 120.19370052\n",
      "  73.35070105 151.45809982 121.23890005 104.5596002   86.69129769\n",
      " 115.26599921 172.19799867 119.8874002  159.23559826 113.30189957\n",
      " 120.94200027 118.35830101  95.85079983 118.50369992 125.85420016\n",
      " 118.52509959  95.93920043 154.22330146 122.19680052 147.32130021\n",
      " 158.80150225 114.18980027 122.58529926 149.10399785 126.9914002\n",
      " 165.72989945 136.68880023 119.80879948 167.30759821 108.34969912\n",
      " 121.70269896 139.13950156 106.55439909]\n"
     ]
    }
   ],
   "source": [
    "print(test_data_prediction)"
   ]
  },
  {
   "cell_type": "code",
   "execution_count": 29,
   "id": "17192919",
   "metadata": {},
   "outputs": [],
   "source": [
    "#R squared error"
   ]
  },
  {
   "cell_type": "code",
   "execution_count": 30,
   "id": "7f8d1724",
   "metadata": {},
   "outputs": [
    {
     "name": "stdout",
     "output_type": "stream",
     "text": [
      "R squared error : 0.9888803253979107\n"
     ]
    }
   ],
   "source": [
    "error_score=metrics.r2_score(Y_test,test_data_prediction)\n",
    "print(\"R squared error :\" ,error_score)\n",
    "#here we compare btwn catrual value and predicted value"
   ]
  },
  {
   "cell_type": "code",
   "execution_count": 31,
   "id": "8f870ae3",
   "metadata": {},
   "outputs": [],
   "source": [
    "# input_data =(\n",
    "# 1447.160034,78.370003,15.2850,1.474491\n",
    "# )\n",
    "# input_data_as_numpy_array= np.array(input_data)\n",
    "# input_data_reshaped = input_data_as_numpy_array.reshape(1, -1)\n",
    "# prediction  = regressor.predict(input_data_reshaped)\n",
    "# print(prediction)"
   ]
  },
  {
   "cell_type": "code",
   "execution_count": 32,
   "id": "93b876b2",
   "metadata": {},
   "outputs": [
    {
     "data": {
      "image/png": "[encoded data removed]",
      "text/plain": [
       "<Figure size 432x288 with 1 Axes>"
      ]
     },
     "metadata": {
      "needs_background": "light"
     },
     "output_type": "display_data"
    }
   ],
   "source": [
    "#here we compare btwn catrual value and predicted value\n",
    "Y_test=list(Y_test)\n",
    "plt.plot(Y_test,color='blue',label=\"Actual Value\")\n",
    "plt.plot(test_data_prediction,color='green',label='Predicted Value')\n",
    "plt.title('Actual Prize vs Predicted Price')\n",
    "plt.xlabel('Number of values')\n",
    "plt.ylabel('GLD Price')\n",
    "plt.legend()\n",
    "plt.show()"
   ]
  },
  {
   "cell_type": "code",
   "execution_count": null,
   "id": "c7c42493",
   "metadata": {},
   "outputs": [],
   "source": []
  }
 ],
 "metadata": {
  "kernelspec": {
   "display_name": "Python 3 (ipykernel)",
   "language": "python",
   "name": "python3"
  },
  "language_info": {
   "codemirror_mode": {
    "name": "ipython",
    "version": 3
   },
   "file_extension": ".py",
   "mimetype": "text/x-python",
   "name": "python",
   "nbconvert_exporter": "python",
   "pygments_lexer": "ipython3",
   "version": "3.9.7"
  }
 },
 "nbformat": 4,
 "nbformat_minor": 5
}
